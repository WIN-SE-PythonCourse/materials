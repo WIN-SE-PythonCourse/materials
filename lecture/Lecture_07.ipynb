{
 "cells": [
  {
   "cell_type": "markdown",
   "metadata": {},
   "source": [
    "# Lecture 07 - Functions (Part 2)"
   ]
  },
  {
   "cell_type": "markdown",
   "metadata": {},
   "source": [
    "## Recap: Functions"
   ]
  },
  {
   "cell_type": "code",
   "execution_count": 1,
   "metadata": {},
   "outputs": [],
   "source": [
    "def read_and_print_item():  #function without arguments and without reeturn value\n",
    "    item = input('Enter item:')\n",
    "    print(f'Selected item: {item}')"
   ]
  },
  {
   "cell_type": "code",
   "execution_count": 2,
   "metadata": {},
   "outputs": [
    {
     "name": "stdout",
     "output_type": "stream",
     "text": [
      "Selected item: Shoes\n"
     ]
    }
   ],
   "source": [
    "read_and_print_item()   #calling the function"
   ]
  },
  {
   "cell_type": "code",
   "execution_count": 3,
   "metadata": {},
   "outputs": [],
   "source": [
    "def print_items(wishlist):       #function with one argument and without return value\n",
    "    for key,value in wishlist.items():\n",
    "        print(f'Item: {key} - Price: {value} EUR')"
   ]
  },
  {
   "cell_type": "code",
   "execution_count": 8,
   "metadata": {},
   "outputs": [
    {
     "name": "stdout",
     "output_type": "stream",
     "text": [
      "Item: T-Shirt - Price: 12.99 EUR\n",
      "Item: Sandals - Price: 19.9 EUR\n",
      "Item: Scarf - Price: 79.9 EUR\n"
     ]
    }
   ],
   "source": [
    "my_items = {'T-Shirt': 12.99, 'Sandals': 19.90, 'Scarf': 79.90}\n",
    "print_items(my_items)   #calling function with one argument"
   ]
  },
  {
   "cell_type": "code",
   "execution_count": 6,
   "metadata": {},
   "outputs": [],
   "source": [
    "def find_cheapest_price(wishlist):   #function with one argument and one return value\n",
    "    cheapest_price = min(wishlist.values())\n",
    "    return cheapest_price"
   ]
  },
  {
   "cell_type": "code",
   "execution_count": 9,
   "metadata": {},
   "outputs": [
    {
     "name": "stdout",
     "output_type": "stream",
     "text": [
      "The cheapest item on my list costs 12.99 EUR\n"
     ]
    }
   ],
   "source": [
    "item = find_cheapest_price(my_items)    #calling function with one argument and one return value\n",
    "print(f'The cheapest item on my list costs {item} EUR')"
   ]
  },
  {
   "cell_type": "markdown",
   "metadata": {},
   "source": [
    "---"
   ]
  },
  {
   "cell_type": "markdown",
   "metadata": {},
   "source": [
    "## Global and Local Variables"
   ]
  },
  {
   "cell_type": "code",
   "execution_count": 10,
   "metadata": {},
   "outputs": [],
   "source": [
    "vat = 0.2 # A global variable can be defined anywhere in the Python program outside of a function"
   ]
  },
  {
   "cell_type": "code",
   "execution_count": 18,
   "metadata": {},
   "outputs": [],
   "source": [
    "def calculate_total_price(price_pre_tax): \n",
    "    total_price = price_pre_tax * (1+vat) # A function can always read a global variable\n",
    "    return total_price"
   ]
  },
  {
   "cell_type": "code",
   "execution_count": 19,
   "metadata": {},
   "outputs": [
    {
     "name": "stdout",
     "output_type": "stream",
     "text": [
      "60.0\n"
     ]
    }
   ],
   "source": [
    "print(calculate_total_price(50))"
   ]
  },
  {
   "cell_type": "code",
   "execution_count": 21,
   "metadata": {},
   "outputs": [
    {
     "name": "stdout",
     "output_type": "stream",
     "text": [
      "0.2\n"
     ]
    }
   ],
   "source": [
    "print(total_price) # A local variable cannot be accessed outside of the function where it was defined, it disappears as soon as the function is finished"
   ]
  },
  {
   "cell_type": "code",
   "execution_count": 11,
   "metadata": {},
   "outputs": [],
   "source": [
    "vat = 0.15   #change value of global variable"
   ]
  },
  {
   "cell_type": "code",
   "execution_count": 12,
   "metadata": {},
   "outputs": [
    {
     "name": "stdout",
     "output_type": "stream",
     "text": [
      "57.49999999999999\n"
     ]
    }
   ],
   "source": [
    "print(calculate_total_price(50))  #value change affects function behavior"
   ]
  },
  {
   "cell_type": "code",
   "execution_count": 13,
   "metadata": {},
   "outputs": [
    {
     "name": "stdout",
     "output_type": "stream",
     "text": [
      "0.15\n"
     ]
    }
   ],
   "source": [
    "print(vat)"
   ]
  },
  {
   "cell_type": "markdown",
   "metadata": {},
   "source": [
    "### Changing Global Variables"
   ]
  },
  {
   "cell_type": "code",
   "execution_count": 14,
   "metadata": {},
   "outputs": [],
   "source": [
    "def change_vat(new_vat):\n",
    "    vat = new_vat\n",
    "    print('New VAT inside func.',(vat*100),'%')"
   ]
  },
  {
   "cell_type": "code",
   "execution_count": 15,
   "metadata": {},
   "outputs": [
    {
     "name": "stdout",
     "output_type": "stream",
     "text": [
      "Vat is: 0.25\n"
     ]
    }
   ],
   "source": [
    "vat = 0.25\n",
    "print('Vat is:',vat)"
   ]
  },
  {
   "cell_type": "code",
   "execution_count": 16,
   "metadata": {},
   "outputs": [
    {
     "name": "stdout",
     "output_type": "stream",
     "text": [
      "New VAT inside func. 10.0 %\n"
     ]
    }
   ],
   "source": [
    "change_vat(0.1)"
   ]
  },
  {
   "cell_type": "code",
   "execution_count": 17,
   "metadata": {},
   "outputs": [
    {
     "name": "stdout",
     "output_type": "stream",
     "text": [
      "Vat is: 0.25\n"
     ]
    }
   ],
   "source": [
    "print('Vat is:',vat)"
   ]
  },
  {
   "cell_type": "markdown",
   "metadata": {},
   "source": [
    "### Global Keyword"
   ]
  },
  {
   "cell_type": "code",
   "execution_count": 18,
   "metadata": {},
   "outputs": [],
   "source": [
    "def change_vat(new_vat):\n",
    "    global vat # Changes to a global variable always require the keywoard global, otherwise the value does not change\n",
    "    vat = new_vat\n",
    "    print('New VAT inside func.',(vat*100),'%')"
   ]
  },
  {
   "cell_type": "code",
   "execution_count": 19,
   "metadata": {},
   "outputs": [
    {
     "name": "stdout",
     "output_type": "stream",
     "text": [
      "New VAT inside func. 10.0 %\n"
     ]
    }
   ],
   "source": [
    "change_vat(0.1)"
   ]
  },
  {
   "cell_type": "code",
   "execution_count": 20,
   "metadata": {},
   "outputs": [
    {
     "name": "stdout",
     "output_type": "stream",
     "text": [
      "Vat is: 0.1\n"
     ]
    }
   ],
   "source": [
    "print('Vat is:',vat)"
   ]
  },
  {
   "cell_type": "code",
   "execution_count": 21,
   "metadata": {},
   "outputs": [
    {
     "name": "stdout",
     "output_type": "stream",
     "text": [
      "New VAT inside func. 30.0 %\n"
     ]
    }
   ],
   "source": [
    "change_vat(0.3)"
   ]
  },
  {
   "cell_type": "code",
   "execution_count": 22,
   "metadata": {},
   "outputs": [
    {
     "name": "stdout",
     "output_type": "stream",
     "text": [
      "Vat is: 0.3\n"
     ]
    }
   ],
   "source": [
    "print('Vat is:',vat)"
   ]
  },
  {
   "cell_type": "markdown",
   "metadata": {},
   "source": [
    "---"
   ]
  },
  {
   "cell_type": "markdown",
   "metadata": {},
   "source": [
    "## Example: Package Delivery Manager"
   ]
  },
  {
   "cell_type": "markdown",
   "metadata": {},
   "source": [
    "Write a Python program that decides when a package will be delivered.\n",
    "The delivery date should be stored in a global variable delivery_date and starts with Monday\n",
    "\n",
    "Write a function get_current_delivery_date that prints to the console when the package will be delivered.\n",
    "\n",
    "\n",
    "If all slots for a day a booked the function update_delivery_date sets the\n",
    "delivery date to the next day, unless its Friday, then the next delivery\n",
    "day is the following Monday"
   ]
  },
  {
   "cell_type": "code",
   "execution_count": 23,
   "metadata": {},
   "outputs": [],
   "source": [
    "delivery_date = 'Monday'"
   ]
  },
  {
   "cell_type": "code",
   "execution_count": 24,
   "metadata": {},
   "outputs": [],
   "source": [
    "def update_delivery_date():\n",
    "    global delivery_date\n",
    "    \n",
    "    if delivery_date == 'Monday':\n",
    "        delivery_date = 'Tuesday'\n",
    "    elif delivery_date == 'Tuesday':\n",
    "        delivery_date = 'Wednesday'\n",
    "    elif delivery_date == 'Wednesday':\n",
    "            delivery_date = 'Thursday'\n",
    "    elif delivery_date == 'Thursday':\n",
    "            delivery_date = 'Friday' \n",
    "    else: \n",
    "        delivery_date = 'Friday' \n"
   ]
  },
  {
   "cell_type": "code",
   "execution_count": 26,
   "metadata": {},
   "outputs": [],
   "source": [
    "   \n",
    "def get_next_delivery_date():\n",
    "    print('Next Delivery Date:',delivery_date)"
   ]
  },
  {
   "cell_type": "code",
   "execution_count": 27,
   "metadata": {},
   "outputs": [
    {
     "name": "stdout",
     "output_type": "stream",
     "text": [
      "Next Delivery Date: Monday\n"
     ]
    }
   ],
   "source": [
    "get_next_delivery_date()"
   ]
  },
  {
   "cell_type": "code",
   "execution_count": 28,
   "metadata": {},
   "outputs": [
    {
     "name": "stdout",
     "output_type": "stream",
     "text": [
      "Next Delivery Date: Monday\n"
     ]
    }
   ],
   "source": [
    "get_next_delivery_date()"
   ]
  },
  {
   "cell_type": "code",
   "execution_count": 30,
   "metadata": {},
   "outputs": [],
   "source": [
    "update_delivery_date()"
   ]
  },
  {
   "cell_type": "code",
   "execution_count": 31,
   "metadata": {},
   "outputs": [
    {
     "name": "stdout",
     "output_type": "stream",
     "text": [
      "Next Delivery Date: Wednesday\n"
     ]
    }
   ],
   "source": [
    "get_next_delivery_date()"
   ]
  },
  {
   "cell_type": "code",
   "execution_count": null,
   "metadata": {},
   "outputs": [],
   "source": []
  },
  {
   "cell_type": "markdown",
   "metadata": {},
   "source": [
    "---"
   ]
  },
  {
   "cell_type": "markdown",
   "metadata": {},
   "source": [
    "## Exceptions"
   ]
  },
  {
   "cell_type": "code",
   "execution_count": 33,
   "metadata": {},
   "outputs": [
    {
     "name": "stdout",
     "output_type": "stream",
     "text": [
      "First number:6\n",
      "Second number:0\n"
     ]
    },
    {
     "ename": "ZeroDivisionError",
     "evalue": "division by zero",
     "output_type": "error",
     "traceback": [
      "\u001b[0;31m---------------------------------------------------------------------------\u001b[0m",
      "\u001b[0;31mZeroDivisionError\u001b[0m                         Traceback (most recent call last)",
      "\u001b[0;32m/var/folders/9k/hfwcldf91zg2z8vsvy3cqf200000gn/T/ipykernel_2977/1553938069.py\u001b[0m in \u001b[0;36m<module>\u001b[0;34m\u001b[0m\n\u001b[1;32m      1\u001b[0m \u001b[0mnum1\u001b[0m \u001b[0;34m=\u001b[0m \u001b[0mint\u001b[0m\u001b[0;34m(\u001b[0m\u001b[0minput\u001b[0m\u001b[0;34m(\u001b[0m\u001b[0;34m'First number:'\u001b[0m\u001b[0;34m)\u001b[0m\u001b[0;34m)\u001b[0m\u001b[0;34m\u001b[0m\u001b[0;34m\u001b[0m\u001b[0m\n\u001b[1;32m      2\u001b[0m \u001b[0mnum2\u001b[0m \u001b[0;34m=\u001b[0m \u001b[0mint\u001b[0m\u001b[0;34m(\u001b[0m\u001b[0minput\u001b[0m\u001b[0;34m(\u001b[0m\u001b[0;34m'Second number:'\u001b[0m\u001b[0;34m)\u001b[0m\u001b[0;34m)\u001b[0m\u001b[0;34m\u001b[0m\u001b[0;34m\u001b[0m\u001b[0m\n\u001b[0;32m----> 3\u001b[0;31m \u001b[0mresult\u001b[0m \u001b[0;34m=\u001b[0m \u001b[0mnum1\u001b[0m\u001b[0;34m/\u001b[0m\u001b[0mnum2\u001b[0m\u001b[0;34m\u001b[0m\u001b[0;34m\u001b[0m\u001b[0m\n\u001b[0m\u001b[1;32m      4\u001b[0m \u001b[0mprint\u001b[0m\u001b[0;34m(\u001b[0m\u001b[0;34m'Result:'\u001b[0m\u001b[0;34m,\u001b[0m\u001b[0mresult\u001b[0m\u001b[0;34m)\u001b[0m\u001b[0;34m\u001b[0m\u001b[0;34m\u001b[0m\u001b[0m\n",
      "\u001b[0;31mZeroDivisionError\u001b[0m: division by zero"
     ]
    }
   ],
   "source": [
    "num1 = int(input('First number:'))\n",
    "num2 = int(input('Second number:'))\n",
    "result = num1/num2\n",
    "print('Result:',result)"
   ]
  },
  {
   "cell_type": "code",
   "execution_count": 35,
   "metadata": {},
   "outputs": [
    {
     "name": "stdout",
     "output_type": "stream",
     "text": [
      "First number:6\n",
      "Second number:0\n",
      "Division by 0 not allowed\n"
     ]
    }
   ],
   "source": [
    "num1 = int(input('First number:'))\n",
    "num2 = int(input('Second number:'))\n",
    "try: \n",
    "    result = num1/num2\n",
    "    print('Result:',result)\n",
    "except:      #Deal with exception (division by 0)\n",
    "    print('Division by 0 not allowed')"
   ]
  },
  {
   "cell_type": "code",
   "execution_count": 36,
   "metadata": {},
   "outputs": [
    {
     "name": "stdout",
     "output_type": "stream",
     "text": [
      "File does not exist\n"
     ]
    }
   ],
   "source": [
    "try: \n",
    "    with open('text-xyz.txt','r') as handle: \n",
    "        contents = input_file.read()\n",
    "        print(contents)\n",
    "except:    #Deal with exception (file does not exist)\n",
    "    print('File does not exist')\n"
   ]
  },
  {
   "cell_type": "markdown",
   "metadata": {},
   "source": [
    "### Ensure valid float input"
   ]
  },
  {
   "cell_type": "code",
   "execution_count": null,
   "metadata": {},
   "outputs": [],
   "source": [
    "valid_number_entered = False\n",
    "\n",
    "while not valid_number_entered:\n",
    "    user_input = float(input('Please enter a valid number! '))\n",
    "    valid_number_entered = True\n",
    "    \n",
    "print(f'User entered: {user_input}')"
   ]
  },
  {
   "cell_type": "code",
   "execution_count": null,
   "metadata": {},
   "outputs": [],
   "source": [
    "valid_number_entered = False\n",
    "\n",
    "while not valid_number_entered:\n",
    "    \n",
    "    try:\n",
    "        user_input = float(input('Please enter a valid number! '))\n",
    "        valid_number_entered = True\n",
    "    \n",
    "    except Exception:\n",
    "        print('Sorry, the input was invalid!')\n",
    "    \n",
    "print(f'User entered: {user_input}')"
   ]
  },
  {
   "cell_type": "markdown",
   "metadata": {},
   "source": [
    "---"
   ]
  }
 ],
 "metadata": {
  "kernelspec": {
   "display_name": "Python 3 (ipykernel)",
   "language": "python",
   "name": "python3"
  },
  "language_info": {
   "codemirror_mode": {
    "name": "ipython",
    "version": 3
   },
   "file_extension": ".py",
   "mimetype": "text/x-python",
   "name": "python",
   "nbconvert_exporter": "python",
   "pygments_lexer": "ipython3",
   "version": "3.9.7"
  },
  "vscode": {
   "interpreter": {
    "hash": "58cd1633478c3146b0b115487de3eda097964656d34a88df4671d5bfc6b03104"
   }
  }
 },
 "nbformat": 4,
 "nbformat_minor": 4
}
