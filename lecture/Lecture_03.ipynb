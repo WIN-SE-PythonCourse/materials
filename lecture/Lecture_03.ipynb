{
 "cells": [
  {
   "cell_type": "markdown",
   "metadata": {},
   "source": [
    "# Lecture 03 - If/Else Conditions"
   ]
  },
  {
   "cell_type": "markdown",
   "metadata": {},
   "source": [
    "## If - Statements"
   ]
  },
  {
   "cell_type": "code",
   "execution_count": 1,
   "metadata": {},
   "outputs": [
    {
     "name": "stdout",
     "output_type": "stream",
     "text": [
      "How old are you? 15\n",
      "Too young to buy something!\n",
      "Please ask your parents.\n",
      "Done.\n"
     ]
    }
   ],
   "source": [
    "age = int(input('How old are you? '))\n",
    "if age < 18:\n",
    "    print('Too young to buy something!')\n",
    "    print('Please ask your parents.')\n",
    "print('Done.')"
   ]
  },
  {
   "cell_type": "markdown",
   "metadata": {},
   "source": [
    "## Boolean Conditions"
   ]
  },
  {
   "cell_type": "code",
   "execution_count": 6,
   "metadata": {},
   "outputs": [
    {
     "data": {
      "text/plain": [
       "True"
      ]
     },
     "execution_count": 6,
     "metadata": {},
     "output_type": "execute_result"
    }
   ],
   "source": [
    "name = 'Franz' # Assignment operator = \n",
    "name == 'Franz' # Equality operator =="
   ]
  },
  {
   "cell_type": "code",
   "execution_count": 7,
   "metadata": {},
   "outputs": [
    {
     "data": {
      "text/plain": [
       "False"
      ]
     },
     "execution_count": 7,
     "metadata": {},
     "output_type": "execute_result"
    }
   ],
   "source": [
    "name == 'franz'"
   ]
  },
  {
   "cell_type": "code",
   "execution_count": 9,
   "metadata": {},
   "outputs": [
    {
     "name": "stdout",
     "output_type": "stream",
     "text": [
      "True\n",
      "False\n"
     ]
    }
   ],
   "source": [
    "print(name == 'Franz') # Check for equality\n",
    "print(name != 'Franz') # Check if not equal"
   ]
  },
  {
   "cell_type": "code",
   "execution_count": 11,
   "metadata": {},
   "outputs": [
    {
     "name": "stdout",
     "output_type": "stream",
     "text": [
      "Age:37\n"
     ]
    }
   ],
   "source": [
    "age = 37\n",
    "if age > 25 and age < 40: # Conditions combined with and -> All parts must be true\n",
    "    print(f'Age:{age}')"
   ]
  },
  {
   "cell_type": "code",
   "execution_count": 13,
   "metadata": {},
   "outputs": [
    {
     "name": "stdout",
     "output_type": "stream",
     "text": [
      "Age:37\n"
     ]
    }
   ],
   "source": [
    "age_1 = 37\n",
    "age_2 = 25\n",
    "\n",
    "if age_2 > 25 or age_1 < 40: # Conditions combined with or -> One (or more) parts must be true\n",
    "    print(f'Age:{age}')"
   ]
  },
  {
   "cell_type": "markdown",
   "metadata": {},
   "source": [
    "## Cascading If - Statements"
   ]
  },
  {
   "cell_type": "code",
   "execution_count": 15,
   "metadata": {},
   "outputs": [],
   "source": [
    "wishlist_empty = True\n",
    "creditcard_expired = False\n",
    "user_authenticated = False\n",
    "\n",
    "if (not creditcard_expired) and user_authenticated:\n",
    "    print('You are allowed to buy items.')\n",
    "    if wishlist_empty:                #If statements can be nested\n",
    "        print('Wishlist empty!')"
   ]
  },
  {
   "cell_type": "markdown",
   "metadata": {},
   "source": [
    "## If / Else - Statements"
   ]
  },
  {
   "cell_type": "code",
   "execution_count": 16,
   "metadata": {},
   "outputs": [
    {
     "name": "stdout",
     "output_type": "stream",
     "text": [
      "Enter a value:25\n",
      "small value\n"
     ]
    }
   ],
   "source": [
    "value = int(input('Enter a value:')) \n",
    "\n",
    "if value > 50: # Either the first or the second part is executed (if OR else)\n",
    "    print('large value')\n",
    "else:\n",
    "    print('small value')"
   ]
  },
  {
   "cell_type": "markdown",
   "metadata": {},
   "source": [
    "## If / Elif / Else - Statement"
   ]
  },
  {
   "cell_type": "code",
   "execution_count": 18,
   "metadata": {},
   "outputs": [
    {
     "name": "stdout",
     "output_type": "stream",
     "text": [
      "Enter a value:22\n",
      "small value\n"
     ]
    }
   ],
   "source": [
    "value = int(input('Enter a value:'))\n",
    "\n",
    "if value < 20: # If value < 20 the code inside the if statement is executed and the rest is omitted\n",
    "    print('very small value')\n",
    "elif value <50: # If value is not < 20 but < 50 then the elif part is executed\n",
    "    print('small value')\n",
    "else: # If neither of the 2 previous conditions apply the else part is executed\n",
    "    print('large value')"
   ]
  },
  {
   "cell_type": "markdown",
   "metadata": {},
   "source": [
    "## Example: Maximum of three numbers"
   ]
  },
  {
   "cell_type": "markdown",
   "metadata": {},
   "source": [
    "Write a Python program that reads three Integers from the user and calculates the maximum of the three numbers. Print the result to the console.\n"
   ]
  },
  {
   "cell_type": "code",
   "execution_count": 18,
   "metadata": {},
   "outputs": [
    {
     "name": "stdout",
     "output_type": "stream",
     "text": [
      "Please enter the first number 6\n",
      "Please enter the second number 7\n",
      "Please enter the third number 6\n",
      "The largest number of 6, 7, 6  is 7 | 7\n"
     ]
    }
   ],
   "source": [
    "first_number = int(input(\"Please enter the first number \"))\n",
    "second_number = int(input(\"Please enter the second number \"))\n",
    "third_number = int(input(\"Please enter the third number \"))\n",
    "\n",
    "\n",
    "# First option: if/else/if\n",
    "if first_number > second_number: \n",
    "        largest = first_number\n",
    "else:\n",
    "    largest = second_number\n",
    "\n",
    "if third_number > largest:\n",
    "    largest = third_number\n",
    "\n",
    "    \n",
    "# Second option: if/elif/else   \n",
    "if first_number >= second_number and first_number >= third_number:\n",
    "    largest_2 = first_number\n",
    "elif second_number > first_number and second_number > third_number:\n",
    "    largest_2 = second_number\n",
    "else:\n",
    "    largest_2 = third_number\n",
    "    \n",
    "print(f'The largest number of {first_number}, {second_number}, {third_number}  is {largest} | {largest_2}')\n"
   ]
  },
  {
   "cell_type": "markdown",
   "metadata": {},
   "source": [
    "##### Example: Grade Calculator"
   ]
  },
  {
   "cell_type": "markdown",
   "metadata": {},
   "source": [
    "Write a Python program to calculate the grade A, B, C, D, F based on the score achieved by a student (see grading table). Read the score from the user and print the grade to the console."
   ]
  },
  {
   "cell_type": "code",
   "execution_count": 3,
   "metadata": {},
   "outputs": [
    {
     "name": "stdout",
     "output_type": "stream",
     "text": [
      "Please enter the number of points achieved: 123\n",
      "Grade A\n"
     ]
    }
   ],
   "source": [
    "score = int(input('Please enter the number of points achieved: '))\n",
    "\n",
    "if score < 61:\n",
    "    print('Grade F')\n",
    "elif score < 71: \n",
    "      print('Grade D')\n",
    "elif score < 81 :\n",
    "    print('Grade C')\n",
    "elif score < 91 :\n",
    "    print('Grade B')\n",
    "else:\n",
    "    print('Grade A') \n",
    "    "
   ]
  },
  {
   "cell_type": "markdown",
   "metadata": {},
   "source": [
    "## Craftsman\n",
    "\n",
    "A craftsman has to prepare a bill at the end of each week. To do this, he tells his company how many metres of **cable** he has laid and how many **hours** it took him. \n",
    "\n",
    "The company calculates the costs as follows:\n",
    " - A cable drum with 500 metres of cable costs €1000. \n",
    " - Started cable drums cost €3 per metre. \n",
    " - The craftsman has an hourly rate of  €50. \n",
    " - If he has worked more than 40 hours, he is entitled to double the hourly rate for each hour of overtime."
   ]
  },
  {
   "cell_type": "code",
   "execution_count": 2,
   "metadata": {},
   "outputs": [
    {
     "name": "stdout",
     "output_type": "stream",
     "text": [
      "Working hours: 50\n",
      "Cable used: 700\n",
      "-------------------- Weekly calculations --------------------\n",
      "Total price of used material: 1600 -- full drums: 1, additional cable: 200\n",
      "Total salary: 3000\n",
      "1.4\n"
     ]
    }
   ],
   "source": [
    "#-------- Input ---------\n",
    "hours_worked = int(input('Working hours: ' ))    \n",
    "cable_used =  int(input('Cable used: ' ))\n",
    "\n",
    "#-------- Calculation ---------\n",
    "price_cable_started = 3     \n",
    "hourly_rate = 50\n",
    "                  \n",
    "drums_used = int(cable_used / 500)    # number of fully used drums, conversion to int cuts decimal places\n",
    "cable_price = 1000 * drums_used       # a full cable drum costs 1000 Euros\n",
    "additional_cable = cable_used % 500\n",
    "                  \n",
    "cable_price += additional_cable * price_cable_started   # Remaining meters of cable, each cost 3 Euros\n",
    "\n",
    "if hours_worked > 40:                   # Craftsman worked more than 40 hours\n",
    "    overtime = hours_worked - 40\n",
    "    salary = 40 * hourly_rate + overtime * hourly_rate * 2\n",
    "else:                                   # Craftsman worked 40 hours or less\n",
    "    salary = hours_worked * hourly_rate\n",
    "\n",
    "#-------- Output ---------\n",
    "print('-'*20, 'Weekly calculations', '-'*20)\n",
    "print(f'Total price of used material: {cable_price} -- full drums: {drums_used}, additional cable: {additional_cable}')\n",
    "print(f'Total salary: {salary}')  "
   ]
  },
  {
   "cell_type": "code",
   "execution_count": null,
   "metadata": {},
   "outputs": [],
   "source": []
  }
 ],
 "metadata": {
  "kernelspec": {
   "display_name": "Python 3 (ipykernel)",
   "language": "python",
   "name": "python3"
  },
  "language_info": {
   "codemirror_mode": {
    "name": "ipython",
    "version": 3
   },
   "file_extension": ".py",
   "mimetype": "text/x-python",
   "name": "python",
   "nbconvert_exporter": "python",
   "pygments_lexer": "ipython3",
   "version": "3.9.7"
  }
 },
 "nbformat": 4,
 "nbformat_minor": 4
}
