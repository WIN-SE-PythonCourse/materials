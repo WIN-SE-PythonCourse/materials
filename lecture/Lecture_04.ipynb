{
 "cells": [
  {
   "cell_type": "markdown",
   "metadata": {},
   "source": [
    "# Lecture 04 - Loops"
   ]
  },
  {
   "cell_type": "markdown",
   "metadata": {},
   "source": [
    "## While-Loops"
   ]
  },
  {
   "cell_type": "code",
   "execution_count": null,
   "metadata": {},
   "outputs": [],
   "source": [
    "number_items = 7           #Iteration variable\n",
    "while number_items <= 5:   #Loop runs as long as the condition is true\n",
    "    print(number_items)\n",
    "    number_items += 1      #Increase iteration variable at each iteration \n",
    "print('Done')"
   ]
  },
  {
   "cell_type": "code",
   "execution_count": null,
   "metadata": {},
   "outputs": [],
   "source": [
    "prompt = 'Tell me a secret. \\nEnter quit to end the program.'\n",
    "\n",
    "message = ''\n",
    "while message != 'quit':     #If user enters 'quit', the program ends\n",
    "    message = input(prompt)\n",
    "    if message != 'quit':\n",
    "        print(message)       #Do not print the quit message to the console\n",
    "print('Bye bye')"
   ]
  },
  {
   "cell_type": "code",
   "execution_count": null,
   "metadata": {},
   "outputs": [],
   "source": [
    "input_string = input('Please enter a positive number: ')\n",
    "\n",
    "while not input_string.isnumeric():          #We want strings that only contain digits\n",
    "    print(f'\"{input_string}\" is not a valid input')\n",
    "    input_string = input('Please enter a positive number: ')   #Ask the user for a new input  \n",
    "input_value = int(input_string)                #Convert input string to integer\n",
    "print(f'Value entered: {input_value}')"
   ]
  },
  {
   "cell_type": "code",
   "execution_count": null,
   "metadata": {},
   "outputs": [],
   "source": [
    "prompt = 'Tell me a secret. '\n",
    "active = True       #Flag\n",
    "while active:                 \n",
    "    message = input(prompt)\n",
    "    if message == 'quit':\n",
    "        active = False\n",
    "    elif message == 'end':\n",
    "        active = False\n",
    "    elif message == 'stop':\n",
    "        active = False\n",
    "    else:\n",
    "        print(message)\n",
    "print('Bye bye')"
   ]
  },
  {
   "cell_type": "markdown",
   "metadata": {},
   "source": [
    "---"
   ]
  },
  {
   "cell_type": "markdown",
   "metadata": {},
   "source": [
    "## Break"
   ]
  },
  {
   "cell_type": "code",
   "execution_count": null,
   "metadata": {},
   "outputs": [],
   "source": [
    "prompt = 'Tell me a secret. '\n",
    "while True:   #Loop runs forever, break is needed\n",
    "    message = input(prompt)\n",
    "    if message == 'quit':\n",
    "        break     #Exit the loop\n",
    "    else:\n",
    "        print(message)\n",
    "print('Bye bye')"
   ]
  },
  {
   "cell_type": "markdown",
   "metadata": {},
   "source": [
    "---"
   ]
  },
  {
   "cell_type": "markdown",
   "metadata": {},
   "source": [
    "## Continue"
   ]
  },
  {
   "cell_type": "code",
   "execution_count": null,
   "metadata": {},
   "outputs": [],
   "source": [
    "current_number = 5\n",
    "while current_number < 10:\n",
    "    current_number += 1 \n",
    "    if current_number % 2 != 0:\n",
    "        continue           #Skip the rest of the loop, go on with the next iteration\n",
    "    print(current_number)"
   ]
  },
  {
   "cell_type": "code",
   "execution_count": null,
   "metadata": {},
   "outputs": [],
   "source": [
    "number_items = 1\n",
    "while number_items <= 5:    #Infinite loop\n",
    "    print(number_items)\n",
    "    number_items += 1     #If the iteration variable does not change, the loop runs forever\n",
    "print('Done')"
   ]
  },
  {
   "cell_type": "markdown",
   "metadata": {},
   "source": [
    "---"
   ]
  },
  {
   "cell_type": "markdown",
   "metadata": {},
   "source": [
    "## For-Loops"
   ]
  },
  {
   "cell_type": "code",
   "execution_count": null,
   "metadata": {},
   "outputs": [],
   "source": [
    "for a in [1,2,3,4 ]: ## For loops can be used to iterate over a collection of elements \n",
    "    print(a) # The iteration variable (a) is automatically assigned the next value in the collection\n",
    "print('Done')"
   ]
  },
  {
   "cell_type": "code",
   "execution_count": null,
   "metadata": {},
   "outputs": [],
   "source": [
    "for item in ['shirt', 'shoes', 'pants']:\n",
    "    if item == 'shoes':\n",
    "        continue\n",
    "    print(item)"
   ]
  },
  {
   "cell_type": "code",
   "execution_count": null,
   "metadata": {},
   "outputs": [],
   "source": [
    "for s in 'abcdefgh': #When iterating over a single string, each character becomes 1 item \n",
    "    print(s)"
   ]
  },
  {
   "cell_type": "markdown",
   "metadata": {},
   "source": [
    "---"
   ]
  },
  {
   "cell_type": "markdown",
   "metadata": {},
   "source": [
    "## Range "
   ]
  },
  {
   "cell_type": "code",
   "execution_count": null,
   "metadata": {},
   "outputs": [],
   "source": [
    "for a in range(7):  # range can be used to iterate over a sequence of items without creating a collection\n",
    "    print(a)        # With 1 parameter,  range runs from 0 to end-1 ( parameter 5 -> 0-4)"
   ]
  },
  {
   "cell_type": "code",
   "execution_count": null,
   "metadata": {},
   "outputs": [],
   "source": [
    "for r in range(7,12): ## With 2 parameters range runs from start to end-1 (parameters 1 and 5 -> 1-4)\n",
    "    print(r)"
   ]
  },
  {
   "cell_type": "code",
   "execution_count": null,
   "metadata": {},
   "outputs": [],
   "source": [
    "for r in range(5,100,5): ## With 3 parameters range runs from start to end-1 with a defined step size\n",
    "    print(r)  ##(parameters 5, 101, 5 -> 5-100 with an increment of 5)"
   ]
  },
  {
   "cell_type": "markdown",
   "metadata": {},
   "source": [
    "---"
   ]
  },
  {
   "cell_type": "markdown",
   "metadata": {},
   "source": [
    "### Largest Number"
   ]
  },
  {
   "cell_type": "markdown",
   "metadata": {},
   "source": [
    "Write a Python program that reads values from the user and after each value, it prints the maximum of all these numbers. The program quits, when the user enters 0.\n"
   ]
  },
  {
   "cell_type": "code",
   "execution_count": null,
   "metadata": {},
   "outputs": [],
   "source": [
    "## Variante 1:\n",
    "active = True\n",
    "\n",
    "new_number  = int(input('Please enter a new number:'))\n",
    "largest_number = new_number\n",
    "while active:\n",
    "    if new_number == 0:\n",
    "        active = False\n",
    "    else:\n",
    "        if new_number > largest_number:\n",
    "            largest_number = new_number\n",
    "        print(f'Largest number: {largest_number}')\n",
    "        new_number = int(input('Please enter a new number:'))\n",
    "\n",
    "print('Done!')"
   ]
  },
  {
   "cell_type": "code",
   "execution_count": null,
   "metadata": {},
   "outputs": [],
   "source": [
    "## Variante 2\n",
    "\n",
    "new_number  = int(input('Please enter a new number:'))\n",
    "largest_number = new_number\n",
    "while new_number != 0:\n",
    "    if new_number > largest_number:\n",
    "        largest_number = new_number\n",
    "    print(f'Largest number: {largest_number}')\n",
    "    new_number = int(input('Please enter a new number:'))\n",
    "    \n",
    "print('Done!')"
   ]
  },
  {
   "cell_type": "markdown",
   "metadata": {},
   "source": [
    "\n",
    "---"
   ]
  },
  {
   "cell_type": "markdown",
   "metadata": {},
   "source": [
    "### Even Numbers"
   ]
  },
  {
   "cell_type": "markdown",
   "metadata": {},
   "source": [
    "Write a program that reads two numbers (lower and upper) from the user and prints all even numbers between lower and upper"
   ]
  },
  {
   "cell_type": "code",
   "execution_count": 4,
   "metadata": {},
   "outputs": [
    {
     "name": "stdout",
     "output_type": "stream",
     "text": [
      "Please enter a lower bounds value: 2\n",
      "Please enter an upper bounds value: 12\n",
      "2\n",
      "4\n",
      "6\n",
      "8\n",
      "10\n",
      "12\n"
     ]
    }
   ],
   "source": [
    "lower = int(input('Please enter a lower bounds value: '))\n",
    "upper = int(input('Please enter an upper bounds value: '))\n",
    "\n",
    "for i in range(lower,upper+1):\n",
    "    if i % 2 == 0 :\n",
    "        print(i)\n",
    "\n"
   ]
  },
  {
   "cell_type": "code",
   "execution_count": 5,
   "metadata": {},
   "outputs": [
    {
     "name": "stdout",
     "output_type": "stream",
     "text": [
      "2\n",
      "4\n",
      "6\n",
      "8\n",
      "10\n",
      "12\n"
     ]
    }
   ],
   "source": [
    "##### Alternative solution\n",
    "        \n",
    "if lower % 2 != 0:\n",
    "    lower+=1\n",
    "    \n",
    "for i in range(lower,upper+1,2):\n",
    "    print(i)"
   ]
  },
  {
   "cell_type": "markdown",
   "metadata": {},
   "source": [
    "---"
   ]
  },
  {
   "cell_type": "markdown",
   "metadata": {},
   "source": [
    "### Numbers Game"
   ]
  },
  {
   "cell_type": "markdown",
   "metadata": {},
   "source": [
    "Write a program that lets a user guess a random number from 1 to 10.\n",
    "The user enters her guess, and the program tells the user whether the entered number is correct, higher, or lower than the correct number.\n",
    "The program finishes when the guess is correct.\n",
    "\n",
    "The function random.randint(1,10) creates a random number from 1 to 10\n",
    "You need to add the statement import random at the beginning of your program"
   ]
  },
  {
   "cell_type": "code",
   "execution_count": 7,
   "metadata": {},
   "outputs": [
    {
     "name": "stdout",
     "output_type": "stream",
     "text": [
      "Please guess the number: 8\n",
      "The number you are looking for is smaller\n",
      "Please guess the number: 4\n",
      "You guessed correctly! The number was 4\n"
     ]
    }
   ],
   "source": [
    "import random\n",
    "\n",
    "number_to_guess = random.randint(1,10)\n",
    "\n",
    "correct_guess = False\n",
    "\n",
    "while not correct_guess:\n",
    "    user_guess = int(input('Please guess the number: '))\n",
    "    if user_guess == number_to_guess:\n",
    "        correct_guess=True\n",
    "    elif user_guess < number_to_guess:\n",
    "        print('The number you are looking for is greater')\n",
    "    else:\n",
    "        print('The number you are looking for is smaller')\n",
    "\n",
    "print(f'You guessed correctly! The number was {number_to_guess}')"
   ]
  },
  {
   "cell_type": "code",
   "execution_count": null,
   "metadata": {},
   "outputs": [],
   "source": []
  }
 ],
 "metadata": {
  "kernelspec": {
   "display_name": "Python 3 (ipykernel)",
   "language": "python",
   "name": "python3"
  },
  "language_info": {
   "codemirror_mode": {
    "name": "ipython",
    "version": 3
   },
   "file_extension": ".py",
   "mimetype": "text/x-python",
   "name": "python",
   "nbconvert_exporter": "python",
   "pygments_lexer": "ipython3",
   "version": "3.8.10"
  }
 },
 "nbformat": 4,
 "nbformat_minor": 4
}
