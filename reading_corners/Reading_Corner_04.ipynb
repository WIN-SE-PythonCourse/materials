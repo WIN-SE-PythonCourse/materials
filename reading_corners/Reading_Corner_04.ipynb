{
 "cells": [
  {
   "cell_type": "markdown",
   "metadata": {
    "language": "en"
   },
   "source": [
    "# Reading Corner 4 - Loops in Python"
   ]
  },
  {
   "cell_type": "markdown",
   "metadata": {
    "language": "en"
   },
   "source": [
    "## Reading Corner 1: The for loop in Python\n",
    "The following program prints a sequence of numbers. We generate this sequence of numbers using the built-in range function. The range function creates a list of integers from one value up to the other. The lower bound is inclusive, the upper bound is exlusive. In this case the for loop goes through the numbers 1,2,3,4; 5 is not included. "
   ]
  },
  {
   "cell_type": "code",
   "execution_count": 2,
   "metadata": {},
   "outputs": [
    {
     "name": "stdout",
     "output_type": "stream",
     "text": [
      "1\n",
      "2\n",
      "3\n",
      "4\n"
     ]
    }
   ],
   "source": [
    "for i in range(1, 5): # In this case, the variable i runs from 1 to 4 and is printed in each iteration\n",
    "    print(i)"
   ]
  },
  {
   "cell_type": "markdown",
   "metadata": {
    "language": "en"
   },
   "source": [
    "## Reading Corner 2: The for loop in Python with branches\n",
    "\n",
    "In this program, we will iterate over a list of numbers (the fibonacci sequence) with a for loop. If-branches can also be nested inside loops and the conditions will be checked in each iteration. \n",
    "\n",
    "In this example we iterate over the numbers and check whether the number is even. If the number is even, we want to print the number, followed with 'Ka-ching!'. If the number is not even, we want to print the number, but without any extra text.\n",
    "\n",
    "It is also possible to nest several loops and branches within each other (take care of the respective indentation). "
   ]
  },
  {
   "cell_type": "code",
   "execution_count": 1,
   "metadata": {},
   "outputs": [
    {
     "name": "stdout",
     "output_type": "stream",
     "text": [
      "0 is even\n",
      "1\n",
      "1\n",
      "2 is even\n",
      "3\n",
      "5\n",
      "8 is even\n",
      "13\n",
      "21\n",
      "34 is even\n",
      "55\n",
      "89\n",
      "144 is even\n",
      "end of for loop\n"
     ]
    }
   ],
   "source": [
    "fibonacci = [0, 1, 1, 2, 3, 5, 8, 13, 21, 34, 55, 89, 144]\n",
    "\n",
    "for num in fibonacci: # The list of numbers is iterated and if the number is even, this information is printed after the number\n",
    "    if num % 2 == 0:\n",
    "        print(num, 'is even')\n",
    "    else: # For all other numbers, only the number itself is printed\n",
    "        print(num)\n",
    "print(\"end of for loop\") # At the end of the program (after the loop) a final output is printed"
   ]
  },
  {
   "cell_type": "markdown",
   "metadata": {},
   "source": [
    "## Reading Corner 3: Repeated user inputs with while loops\n",
    "\n",
    "The following Python program shows another variant of the vat calculation program from the reading corner in exercise 2. Here, a while loop is used to prompt for the net amount until the user enters a valid amount (number >= 0):"
   ]
  },
  {
   "cell_type": "code",
   "execution_count": 2,
   "metadata": {},
   "outputs": [
    {
     "name": "stdout",
     "output_type": "stream",
     "text": [
      "Please enter the net amount: 1000\n",
      "The sales tax is:  200.0  Euro\n",
      "The total amount is:  1200.0  Euro\n"
     ]
    }
   ],
   "source": [
    "net_amount = float(input(\"Please enter the net amount: \"))\n",
    "vat = 0\n",
    "total_amount = 0\n",
    "\n",
    "while net_amount < 0:# As long as the user enters values for the net amount that are less than 0, the input must be repeated\n",
    "    print(\"Only positive values are allowed!\")\n",
    "    net_amount = float(input(\"Please enter the net amount: \"))\n",
    "    \n",
    "vat = net_amount * 0.2\n",
    "total_amount = net_amount + vat\n",
    "print(\"The sales tax is: \",vat, \" Euro\")\n",
    "print(\"The total amount is: \",total_amount, \" Euro\")"
   ]
  }
 ],
 "metadata": {
  "celltoolbar": "Edit Metadata",
  "colab": {
   "authorship_tag": "ABX9TyOBVbPsug35bB9RniX75v2F",
   "collapsed_sections": [
    "x9MhvxcdrODi",
    "69IrKu7or4MG"
   ],
   "name": "Exercise-01.ipynb",
   "provenance": []
  },
  "kernelspec": {
   "display_name": "Python 3 (ipykernel)",
   "language": "python",
   "name": "python3"
  },
  "language_info": {
   "codemirror_mode": {
    "name": "ipython",
    "version": 3
   },
   "file_extension": ".py",
   "mimetype": "text/x-python",
   "name": "python",
   "nbconvert_exporter": "python",
   "pygments_lexer": "ipython3",
   "version": "3.9.7"
  },
  "vscode": {
   "interpreter": {
    "hash": "0332eed04eeeb7d0394be5af265fc0e80b8c756f595df2ed885a8a5a6ca8c041"
   }
  }
 },
 "nbformat": 4,
 "nbformat_minor": 1
}
