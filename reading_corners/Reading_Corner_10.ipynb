{
 "cells": [
  {
   "cell_type": "markdown",
   "metadata": {},
   "source": [
    "# Reading Corner 10 - Classes und Objects in Python"
   ]
  },
  {
   "cell_type": "markdown",
   "metadata": {},
   "source": [
    "## Reading Corner 1: Createing and using classes\n",
    "\n",
    "The following program demonstrates how to create and use a class in Python."
   ]
  },
  {
   "cell_type": "code",
   "execution_count": 1,
   "metadata": {},
   "outputs": [
    {
     "name": "stdout",
     "output_type": "stream",
     "text": [
      "Rectangle1:\n",
      "\n",
      "100\n",
      "100\n",
      "*************************\n",
      "Rectangle2:\n",
      "\n",
      "1\n",
      "1\n",
      "*************************\n",
      "Rectangle3:\n",
      "\n",
      "3\n",
      "4\n"
     ]
    }
   ],
   "source": [
    "# Creating a class named RectangleI that assigns values to properties a and b as soon as an object \n",
    "# of the class is created. When an object is created, the init method is called and both a and b\n",
    "# are set to the value 100.\n",
    "class RectangleI:\n",
    "    def __init__(self):\n",
    "        self.a=100\n",
    "        self.b=100\n",
    "\n",
    "# Creating a class named RectangleII, which assigns values to the properties a and b as soon as an object is created. \n",
    "#When creating an object, values for a and b must be provided.\n",
    "class RectangleII:\n",
    "    def __init__(self,a,b):\n",
    "        self.a=a\n",
    "        self.b=b\n",
    "\n",
    "# Creating an object named rect1. Then the values of a and b are printed. a and b are automatically set to 100.\n",
    "print('Rectangle1:\\n')\n",
    "rect1 = RectangleI()\n",
    "print(rect1.a)\n",
    "print(rect1.b)\n",
    "print('*'*25)\n",
    "        \n",
    "# Creating an object named cla2. Then the values of a and b are printed.\n",
    "print('Rectangle2:\\n')\n",
    "rect2 = RectangleII(1,1)\n",
    "print(rect2.a)\n",
    "print(rect2.b)\n",
    "print('*'*25)\n",
    "\n",
    "# Another object (cla2) is created. The values of a and b are passed again. \n",
    "print('Rectangle3:\\n')\n",
    "rect3 = RectangleII(3,4)\n",
    "print(rect3.a)\n",
    "print(rect3.b)\n"
   ]
  },
  {
   "cell_type": "markdown",
   "metadata": {},
   "source": [
    "---"
   ]
  },
  {
   "cell_type": "markdown",
   "metadata": {},
   "source": [
    "## Reading Corner 2: Creating and using classes\n",
    "\n",
    "The following program demonstrates the creation and usage of a class in Python and the subsequent utilization of objects from this class within a data structure. The class TestResult is created, and several objects tr0 to tr5 are generated. These objects are then stored in a list. At the end, the list is iterated through with a loop, and all contained objects of the TestResult class are output.\n",
    "\n",
    "This illustrates that custom classes can be used in data structures in the same way as simple numbers (Integers) or text (Strings).\n",
    "\n",
    "In this example, the subject (here, Math) is the same for each created object, while student and points are individually determined or passed when creating each object."
   ]
  },
  {
   "cell_type": "code",
   "execution_count": 2,
   "metadata": {},
   "outputs": [
    {
     "name": "stdout",
     "output_type": "stream",
     "text": [
      "Name: Max Mayer Punkte: 98 Fach: Math\n",
      "Name: Franz Luger Punkte: 78 Fach: Math\n",
      "Name: Lukas Treber Punkte: 42 Fach: Math\n",
      "Name: Julia Muster Punkte: 45 Fach: Math\n",
      "Name: Daniela Schwanenstädter Punkte: 87 Fach: Math\n",
      "Name: Sabine Hammerschmied Punkte: 99 Fach: Math\n"
     ]
    }
   ],
   "source": [
    "class TestResult:\n",
    "    subject='Math' # The subject property is set to 'Math' for each object of the TestResult class.\n",
    "    def __init__(self,s,p): # Using the __init__ method, the points and the student's name can be individually specified when creating an object.\n",
    "        self.student=s\n",
    "        self.points=p\n",
    "    \n",
    "    def __str__(self): # With the help of the __str__ method, objects of a class can be displayed on the console using the print function.\n",
    "        return f'Name: {self.student} Points: {self.points} Subject: {self.subject}'\n",
    "             \n",
    "# Objects of type TestResult are created        \n",
    "tr0=TestResult('Max Mayer',98)    \n",
    "tr1=TestResult('Franz Luger',78)        \n",
    "tr2=TestResult('Lukas Treber',42)        \n",
    "tr3=TestResult('Julia Muster',45)        \n",
    "tr4=TestResult('Daniela Schwanenstädter',87)     \n",
    "tr5=TestResult('Sabine Hammerschmied',99)   \n",
    "\n",
    "# Objects tr0 to tr5 are stored in the list results\n",
    "results=[]\n",
    "results.append(tr0)\n",
    "results.append(tr1)\n",
    "results.append(tr2)\n",
    "results.append(tr3)\n",
    "results.append(tr4)\n",
    "results.append(tr5)\n",
    "\n",
    "# The list is traversed using a for-loop, and the results of each individual object are output.\n",
    "for r in results:\n",
    "    print(r)"
   ]
  }
 ],
 "metadata": {
  "kernelspec": {
   "display_name": "Python 3 (ipykernel)",
   "language": "python",
   "name": "python3"
  },
  "language_info": {
   "codemirror_mode": {
    "name": "ipython",
    "version": 3
   },
   "file_extension": ".py",
   "mimetype": "text/x-python",
   "name": "python",
   "nbconvert_exporter": "python",
   "pygments_lexer": "ipython3",
   "version": "3.9.7"
  }
 },
 "nbformat": 4,
 "nbformat_minor": 2
}
