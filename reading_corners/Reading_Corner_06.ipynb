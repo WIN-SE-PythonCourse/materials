{
 "cells": [
  {
   "cell_type": "markdown",
   "metadata": {
    "language": "en"
   },
   "source": [
    "# Reading corner 6 - Functions in Python"
   ]
  },
  {
   "cell_type": "markdown",
   "metadata": {
    "language": "en"
   },
   "source": [
    "## Reading corner 1: Return values and parameters\n",
    "\n",
    "The following program shows a function ``divide_two_numbers`` which receives 2 numbers as parameters and divides the first number by the second number. The function returns the result of the calculation. Subsequently, the function is called 3 times in different ways and the result is printed to the console."
   ]
  },
  {
   "cell_type": "code",
   "execution_count": 1,
   "metadata": {},
   "outputs": [],
   "source": [
    "def divide_two_numbers(num1=1.0, num2=1.0): #Function with 2 parameters num1 and num2 which are both set to 1 by default\n",
    "    return num1 / num2"
   ]
  },
  {
   "cell_type": "code",
   "execution_count": 2,
   "metadata": {},
   "outputs": [
    {
     "name": "stdout",
     "output_type": "stream",
     "text": [
      "5 divided by 3 is:  6.666666666666667\n",
      "100 divided by 4 is:  0.29411764705882354\n",
      "\"divide\" without arguments takes the default values 1 and 1. 1 divided by 1 is:  1.0\n"
     ]
    }
   ],
   "source": [
    "result = divide_two_numbers(20, 3) # Calling the function with the values 20 and 3 as arguments\n",
    "print('5 divided by 3 is: ',result)\n",
    "\n",
    "\n",
    "num1 = 5\n",
    "num2 = 17\n",
    "print('100 divided by 4 is: ',divide_two_numbers(num1,num2)) # Calling the function with 2 variables\n",
    "print('\"divide\" without arguments takes the default values 1 and 1. 1 divided by 1 is: ',divide_two_numbers()) # Calling the function with the default arguments"
   ]
  },
  {
   "cell_type": "markdown",
   "metadata": {
    "language": "en"
   },
   "source": [
    "## Reading corner 2: Calling functions in Python\n",
    "\n",
    "Functions can also call other functions. In the following example, he function ``list_unique`` gets a list as parameter and returns the list without duplicate elements. \n",
    "\n",
    "In the function ``list_unique``, the function ``sum_list`` is called and the result is returned."
   ]
  },
  {
   "cell_type": "code",
   "execution_count": 3,
   "metadata": {},
   "outputs": [],
   "source": [
    "def sum_list(list_to_sum): # Function with list as parameter. The elements of the list are summed up within the function and returned.\n",
    "    sum_of_list = 0\n",
    "    for x in list_to_sum:\n",
    "        sum_of_list += x\n",
    "    return sum_of_list"
   ]
  },
  {
   "cell_type": "code",
   "execution_count": 4,
   "metadata": {},
   "outputs": [],
   "source": [
    "def list_unique(l): # Function with list l as parameter. \n",
    "    newl = []\n",
    "    for a in l:\n",
    "        if a not in newl: # For each element a in list l, it is checked whether it has been added to the new list newl.\n",
    "            newl.append(a) # If the element does not yet appear in the newl list, it will be added\n",
    "    newl_sum = sum_list(newl) # Calling a function inside another function\n",
    "    return newl,newl_sum #The new list and the sum are returned"
   ]
  },
  {
   "cell_type": "code",
   "execution_count": 5,
   "metadata": {},
   "outputs": [
    {
     "name": "stdout",
     "output_type": "stream",
     "text": [
      "List without duplicate elements:15, with digit sum: [1, 2, 3, 4, 5]\n",
      "<class 'tuple'>\n",
      "List without duplicate elements:[2, 5, 6, 8, 9, 14, 15], with digit sum: 59\n"
     ]
    }
   ],
   "source": [
    "\n",
    "list_sum, new_list = list_unique([1,2,3,3,3,3,4,4,1,5]) # The two return values are stored in 2 variables\n",
    "print(f'List without duplicate elements:{new_list}, with digit sum: {list_sum}') \n",
    "\n",
    "\n",
    "result = list_unique([2,5,5,6,8,2,9,14,14,15]) # Alternatively, both return values can also be stored in 1 variable.\n",
    "\n",
    "print(type(result)) # This variable is then of type tuple\n",
    "\n",
    "print(f'List without duplicate elements:{result[0]}, with digit sum: {result[1]}') \n",
    "#The respective return values can be accessed via the index  "
   ]
  }
 ],
 "metadata": {
  "celltoolbar": "Edit Metadata",
  "kernelspec": {
   "display_name": "Python 3 (ipykernel)",
   "language": "python",
   "name": "python3"
  },
  "language_info": {
   "codemirror_mode": {
    "name": "ipython",
    "version": 3
   },
   "file_extension": ".py",
   "mimetype": "text/x-python",
   "name": "python",
   "nbconvert_exporter": "python",
   "pygments_lexer": "ipython3",
   "version": "3.9.7"
  },
  "vscode": {
   "interpreter": {
    "hash": "0332eed04eeeb7d0394be5af265fc0e80b8c756f595df2ed885a8a5a6ca8c041"
   }
  }
 },
 "nbformat": 4,
 "nbformat_minor": 2
}
