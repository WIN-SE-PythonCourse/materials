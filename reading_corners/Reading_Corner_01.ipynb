{
 "cells": [
  {
   "cell_type": "markdown",
   "metadata": {
    "colab_type": "text",
    "id": "KuevN9_ZqvGK"
   },
   "source": [
    "# From Problems to Algorithms"
   ]
  },
  {
   "cell_type": "markdown",
   "metadata": {
    "colab_type": "text",
    "id": "iViPqrrzW8Ny"
   },
   "source": [
    "## Understanding and translating problems\n"
   ]
  },
  {
   "cell_type": "markdown",
   "metadata": {},
   "source": [
    "Understanding problems is not always easy, it has to be learned. This does not necessarily have to do with the fact that information on exercise sheets or in exams is sometimes difficult to understand because it contains technical terms that you are not yet that familiar with. \n",
    "\n",
    "On the contrary, in practice you are more likely to face a situation like the following:\n",
    "Someone has a certain problem that could be easily solved by a simple program. You are supposed to solve the problem by programming, but you have not worked in this area yet and thus have not gained any experience.\n",
    "\n",
    "The client explains the problem and the requirements for the program to you. Even if you understand right away what this new program should do and what the result should look like, you still have to analyze the problem exactly and translate it into \"your language\" (algorithms, etc.) in order to program not only an executable but also a really good application.\n",
    "\n",
    "The best way to do this is to ask yourself a lot of questions (much of which you will learn throughout the semester):\n",
    "\n",
    "* What should the result look like?\n",
    "* What are the tasks of the program?\n",
    "* In which order should they be executed?\n",
    "* Which single steps are necessary?\n",
    "* Which data should be entered and which should be output?\n",
    "* Which variables and which data types are needed?\n",
    "* Where are conditions necessary?\n",
    "* Where are loops necessary? Which ones are suitable for what?\n",
    "* Where, when and how is the data entered or read from an external file?\n",
    "* Which data belong together?\n",
    "* Where do I use simple data types, where collections?\n",
    "* Which libraries do I use and how do I use them correctly?"
   ]
  },
  {
   "cell_type": "markdown",
   "metadata": {},
   "source": [
    "---"
   ]
  },
  {
   "cell_type": "markdown",
   "metadata": {
    "colab_type": "text",
    "id": "x9MhvxcdrODi"
   },
   "source": [
    "## Reading Corner: Simple Programs\n",
    "\n"
   ]
  },
  {
   "cell_type": "markdown",
   "metadata": {
    "colab_type": "text",
    "id": "Y1KQiSvOGEjS"
   },
   "source": [
    "The first reading corner shows the way from the problem to the program using a simple example of the calculation of price and discounts. First, read the algorithm in natural language and assign the individual steps to their respective equivalents in the program code. \n",
    "\n",
    "### Price calculation - Algorithm in natural language\n",
    "\n",
    " 1. Ask user for item price\n",
    " 2. User enters item price as decimal number\n",
    " 3. Ask user for number of items\n",
    " 4. User enters number of items as whole number\n",
    " 5. Ask user for discount in percent\n",
    " 6. Users enters discount as whole number\n",
    " 7. Calculate total price (item price * numer of items)\n",
    " 8. Calculate discount\n",
    " 9. Subtract discount from total price\n",
    " 10. Output all values on the console\n",
    "\n",
    "**Input data:** price per item, number of items <br>\n",
    "**Output data:** discount, total price\n",
    "\n"
   ]
  },
  {
   "cell_type": "markdown",
   "metadata": {},
   "source": [
    "### Price Calculation - Python Code"
   ]
  },
  {
   "cell_type": "code",
   "execution_count": 1,
   "metadata": {
    "scrolled": true
   },
   "outputs": [
    {
     "name": "stdout",
     "output_type": "stream",
     "text": [
      "Price per item: 4.5\n",
      "Number of items: 3\n",
      "Discount in percent:10\n",
      "Total price:  13.5\n",
      "Discount:  1.35\n",
      "New price:  12.15\n"
     ]
    }
   ],
   "source": [
    "price_per_item = float(input('Price per item: ')) # Conversion of text into floating point numbers (see next lecture) \n",
    "number_of_items = int(input('Number of items: ')) # Conversion of text into integers (see next lecture)   \n",
    "discount = int(input('Discount in percent:'))\n",
    "\n",
    "total_price = price_per_item * number_of_items\n",
    "total_discount = total_price / 100 * discount\n",
    "new_price = total_price - total_discount\n",
    "\n",
    "print('Total price: ', total_price)\n",
    "print('Discount: ', total_discount)\n",
    "print('New price: ', new_price)"
   ]
  },
  {
   "cell_type": "markdown",
   "metadata": {},
   "source": [
    "### Price Calculation - Flowchart"
   ]
  },
  {
   "cell_type": "markdown",
   "metadata": {},
   "source": [
    "![Flowchart.png](flow.png)"
   ]
  }
 ],
 "metadata": {
  "colab": {
   "authorship_tag": "ABX9TyO8Oo5etQl6sDehP+ph+RI0",
   "collapsed_sections": [
    "x9MhvxcdrODi",
    "69IrKu7or4MG"
   ],
   "name": "ReadingCorner-01.ipynb",
   "provenance": []
  },
  "kernelspec": {
   "display_name": "Python 3 (ipykernel)",
   "language": "python",
   "name": "python3"
  },
  "language_info": {
   "codemirror_mode": {
    "name": "ipython",
    "version": 3
   },
   "file_extension": ".py",
   "mimetype": "text/x-python",
   "name": "python",
   "nbconvert_exporter": "python",
   "pygments_lexer": "ipython3",
   "version": "3.9.7"
  }
 },
 "nbformat": 4,
 "nbformat_minor": 1
}
