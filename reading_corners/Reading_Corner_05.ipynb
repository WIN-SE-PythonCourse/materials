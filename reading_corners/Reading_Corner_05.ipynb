{
 "cells": [
  {
   "cell_type": "markdown",
   "metadata": {
    "language": "en"
   },
   "source": [
    "# Reading Corner 5 - Collections / Data Structures in Python\n"
   ]
  },
  {
   "cell_type": "markdown",
   "metadata": {
    "language": "en"
   },
   "source": [
    "## Reading Corner 1: The List in Python\n",
    "\n",
    "The following simple program prints a sequence of elements contained in a list, sums them, and prints the sum of the elements at the end. The list is first defined and contains the elements 1,2,-8,10. The list is then extended with additional elements and the first element, the second element, and the last element of the list are printed to the console. At the end, the entire list is printed again."
   ]
  },
  {
   "cell_type": "code",
   "execution_count": 6,
   "metadata": {},
   "outputs": [
    {
     "name": "stdout",
     "output_type": "stream",
     "text": [
      "Elements of the list numberlist:\n",
      "1\n",
      "2\n",
      "-8\n",
      "10\n",
      "The sum is: 5\n",
      "Data type of numberlist: <class 'list'>\n",
      "Entire list numberlist: [1, 2, -8, 10]\n",
      "Entire list numberlist with new elements:  [1, 2, -8, 10, 9, 10, 9, -6, -2, 9, 10]\n",
      "Entire list numberlist with new elements at 3rd position:  [1, 2, 77, -8, 10, 9, 10, 9, -6, -2, 9, 10]\n",
      "first element: 1\n",
      "second element: 2\n",
      "last element: 10\n",
      "Entire list numberlist after change: [1, 2, 77, -8, 10, 9, 10, 9, -6, -2, 9, 10]\n"
     ]
    }
   ],
   "source": [
    "numberlist= [1,2,-8,10] #Create the list\n",
    "\n",
    "sum_numbers = 0\n",
    "print(\"Elements of the list numberlist:\")\n",
    "for e in numberlist: #Iterate over the list and print each element with print(e). Additionally, the numbers are summed up via sum_numbers +=e. \n",
    "    print(e)\n",
    "    sum_numbers += e  # += is short for sum_numbers=sum_numbers+e\n",
    "print('The sum is:', sum_numbers) \n",
    "print('Data type of numberlist:' , type(numberlist))\n",
    "print('Entire list numberlist:', numberlist)\n",
    "  \n",
    "#Extend the list with new elements  \n",
    "numberlist.append(9)\n",
    "numberlist.append(10)\n",
    "numberlist.append(9)\n",
    "numberlist.append(-6)\n",
    "numberlist.append(-2)\n",
    "numberlist.append(9)\n",
    "numberlist.append(10)\n",
    "\n",
    "\n",
    "print('Entire list numberlist with new elements: ', numberlist) #new output of the list - but without loop\n",
    "numberlist.insert(2, 77) # Inserting an element at a specific position. The element 77 should be inserted at the 3rd position. Attention, the index of the list starts at 0\n",
    "print('Entire list numberlist with new elements at 3rd position: ', numberlist)\n",
    "\n",
    "\n",
    "print('first element:', numberlist[0]) # Print the first element\n",
    "\n",
    "print('second element:',numberlist[1]) # Print the second element\n",
    "\n",
    "print('last element:',numberlist[-1]) # Print the third element\n",
    "\n",
    "print('Entire list numberlist after change:', numberlist)\n"
   ]
  },
  {
   "cell_type": "markdown",
   "metadata": {},
   "source": [
    "---"
   ]
  },
  {
   "cell_type": "markdown",
   "metadata": {
    "language": "en"
   },
   "source": [
    "## Reading Corner 2: Dictionaries in Python"
   ]
  },
  {
   "cell_type": "markdown",
   "metadata": {
    "language": "en"
   },
   "source": [
    "The following simple program prints a sequence of elements in a dictionary. First, the dictionary is defined and it contains the following elements: 100,200,300,-500 and has the following keys: a,b,c,d."
   ]
  },
  {
   "cell_type": "code",
   "execution_count": 7,
   "metadata": {},
   "outputs": [
    {
     "name": "stdout",
     "output_type": "stream",
     "text": [
      "Elements of dictionary:\n",
      "a -> 100\n",
      "b -> 200\n",
      "c -> 300\n",
      "d -> -500\n",
      "Value for key a: 100\n",
      "Datatype of dictionary: <class 'dict'>\n",
      "Whole dictionary: {'a': 100, 'b': 200, 'c': 300, 'd': -500}\n"
     ]
    }
   ],
   "source": [
    "dictionary= {'a': 100, 'b': 200, 'c': 300, 'd': -500} #Define the dictionary\n",
    "print(\"Elements of dictionary:\") \n",
    "\n",
    "for dict_key, dict_value in dictionary.items(): #Iterate with for loop. dictionrary.items() returns the entries of the dictionary\n",
    "    print(dict_key,'->',dict_value)\n",
    "\n",
    "print('Value for key a:', dictionary['a']) #Print the dictionary value with the key a    \n",
    "print('Datatype of dictionary:' , type(dictionary)) \n",
    "print('Whole dictionary:', dictionary) #Again print the dictionary but without loop. Here, the individual elements are not accessed directly. "
   ]
  },
  {
   "cell_type": "markdown",
   "metadata": {},
   "source": [
    "---"
   ]
  },
  {
   "cell_type": "markdown",
   "metadata": {
    "language": "en"
   },
   "source": [
    "## Reading Corner 3: Tuples in Python"
   ]
  },
  {
   "cell_type": "markdown",
   "metadata": {},
   "source": [
    "The following simple program shows how to create a tuple, convert it to a list, and add more elements to the list."
   ]
  },
  {
   "cell_type": "code",
   "execution_count": 8,
   "metadata": {},
   "outputs": [
    {
     "name": "stdout",
     "output_type": "stream",
     "text": [
      "Tuple A: (4, False, 2, 'Hello', 3, 3)\n",
      "Tuple B: (4, False, 2, 'Hello', 3, 3, 30, 320)\n"
     ]
    }
   ],
   "source": [
    "tupleA = (4, False , 2, 'Hello', 3, 3) #Definition of the tuple\n",
    "\n",
    "print('Tuple A:',tupleA) #Print TupleA\n",
    "\n",
    "listA = list(tupleA) #Convert tupleA into a list\n",
    "\n",
    "listA.append(30) #Add element 30 to the listA list\n",
    "\n",
    "listA.append(320) #Add element 320 to the list listA\n",
    "\n",
    "tupleB = tuple(listA) #Create a new tuple from listA -> tupleB\n",
    "\n",
    "\n",
    "print('Tuple B:',tupleB) #Print the new tuple"
   ]
  },
  {
   "cell_type": "markdown",
   "metadata": {},
   "source": [
    "---"
   ]
  },
  {
   "cell_type": "markdown",
   "metadata": {
    "language": "en"
   },
   "source": [
    "## Reading corner 4: Sets in Python"
   ]
  },
  {
   "cell_type": "markdown",
   "metadata": {
    "language": "en"
   },
   "source": [
    "The following simple program shows the definition of an empty set and how elements can be added to the set."
   ]
  },
  {
   "cell_type": "code",
   "execution_count": 9,
   "metadata": {},
   "outputs": [
    {
     "name": "stdout",
     "output_type": "stream",
     "text": [
      "color_set= {'Red'}\n",
      "color_set= {'Red', 'Green', 'Blue'}\n",
      "color_set= {'Red', 'Green', 'Blue', 'Yellow'}\n",
      "color_list= ['Pink', 'Purple', 'Black']\n",
      "Set without color_list contains the following elements:  {'Red', 'Green', 'Blue', 'Yellow'}\n",
      "Set with color_list contains the following elements:  {'Green', 'Yellow', 'Purple', 'Black', 'Red', 'Blue', 'Pink'}\n",
      "Print with for loop:\n",
      "Green\n",
      "Yellow\n",
      "Purple\n",
      "Black\n",
      "Red\n",
      "Blue\n",
      "Pink\n"
     ]
    }
   ],
   "source": [
    "color_set = set()  #Defining an empty set  \n",
    "\n",
    "color_set.add(\"Red\") #Adding element 'Red'\n",
    "print('color_set=', color_set)\n",
    "\n",
    "\n",
    "color_set.update([\"Blue\", \"Green\"])  #Adding 'Blue' and 'Green' elements \n",
    "print('color_set=', color_set)\n",
    "\n",
    "\n",
    "color_set.update([\"Yellow\", \"Green\"])    #Adding 'Yelloe' and 'Green' elements\n",
    "\n",
    "color_set.add(\"Green\") #Adding element 'Green'\n",
    "\n",
    "print('color_set=', color_set)\n",
    "\n",
    "color_list=[\"Pink\", \"Purple\", \"Black\"]    #Define a list with colors\n",
    "\n",
    "print('color_list=', color_list)    #Output of the list\n",
    "\n",
    "\n",
    "print(\"Set without color_list contains the following elements: \", color_set)  #Output of the whole set \n",
    "\n",
    "color_set.update(color_list)   #Extension of the set with the list color_list\n",
    "print(\"Set with color_list contains the following elements: \", color_set)\n",
    "\n",
    "print(\"Print with for loop:\")\n",
    "for color in color_set:     #Output of the elements of the set using a for loop\n",
    "    print(color)"
   ]
  },
  {
   "cell_type": "code",
   "execution_count": null,
   "metadata": {},
   "outputs": [],
   "source": []
  }
 ],
 "metadata": {
  "celltoolbar": "Edit Metadata",
  "kernelspec": {
   "display_name": "Python 3 (ipykernel)",
   "language": "python",
   "name": "python3"
  },
  "language_info": {
   "codemirror_mode": {
    "name": "ipython",
    "version": 3
   },
   "file_extension": ".py",
   "mimetype": "text/x-python",
   "name": "python",
   "nbconvert_exporter": "python",
   "pygments_lexer": "ipython3",
   "version": "3.9.7"
  },
  "vscode": {
   "interpreter": {
    "hash": "0332eed04eeeb7d0394be5af265fc0e80b8c756f595df2ed885a8a5a6ca8c041"
   }
  }
 },
 "nbformat": 4,
 "nbformat_minor": 2
}
